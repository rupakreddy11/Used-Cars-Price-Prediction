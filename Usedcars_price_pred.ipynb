{
 "cells": [
  {
   "cell_type": "markdown",
   "metadata": {},
   "source": [
    "# Used Cars Price Prediction"
   ]
  },
  {
   "cell_type": "markdown",
   "metadata": {},
   "source": [
    "Importing libraries"
   ]
  },
  {
   "cell_type": "code",
   "execution_count": 458,
   "metadata": {},
   "outputs": [],
   "source": [
    "import numpy as np\n",
    "import pandas as pd\n",
    "import datetime \n",
    "import matplotlib.pyplot as plt\n",
    "import seaborn as sns\n",
    "%matplotlib inline\n",
    "from sklearn.model_selection import train_test_split\n",
    "from sklearn.linear_model import LinearRegression\n",
    "from sklearn.ensemble import RandomForestRegressor\n",
    "from sklearn.preprocessing import StandardScaler\n",
    "from sklearn.metrics import r2_score,accuracy_score"
   ]
  },
  {
   "cell_type": "code",
   "execution_count": 459,
   "metadata": {},
   "outputs": [
    {
     "data": {
      "text/html": [
       "<div>\n",
       "<style scoped>\n",
       "    .dataframe tbody tr th:only-of-type {\n",
       "        vertical-align: middle;\n",
       "    }\n",
       "\n",
       "    .dataframe tbody tr th {\n",
       "        vertical-align: top;\n",
       "    }\n",
       "\n",
       "    .dataframe thead th {\n",
       "        text-align: right;\n",
       "    }\n",
       "</style>\n",
       "<table border=\"1\" class=\"dataframe\">\n",
       "  <thead>\n",
       "    <tr style=\"text-align: right;\">\n",
       "      <th></th>\n",
       "      <th>Unnamed: 0</th>\n",
       "      <th>Name</th>\n",
       "      <th>Location</th>\n",
       "      <th>Year</th>\n",
       "      <th>Kilometers_Driven</th>\n",
       "      <th>Fuel_Type</th>\n",
       "      <th>Transmission</th>\n",
       "      <th>Owner_Type</th>\n",
       "      <th>Mileage</th>\n",
       "      <th>Engine</th>\n",
       "      <th>Power</th>\n",
       "      <th>Seats</th>\n",
       "      <th>New_Price</th>\n",
       "      <th>Price</th>\n",
       "    </tr>\n",
       "  </thead>\n",
       "  <tbody>\n",
       "    <tr>\n",
       "      <th>0</th>\n",
       "      <td>0</td>\n",
       "      <td>Maruti Wagon R LXI CNG</td>\n",
       "      <td>Mumbai</td>\n",
       "      <td>2010</td>\n",
       "      <td>72000</td>\n",
       "      <td>CNG</td>\n",
       "      <td>Manual</td>\n",
       "      <td>First</td>\n",
       "      <td>26.6 km/kg</td>\n",
       "      <td>998 CC</td>\n",
       "      <td>58.16 bhp</td>\n",
       "      <td>5.0</td>\n",
       "      <td>NaN</td>\n",
       "      <td>1.75</td>\n",
       "    </tr>\n",
       "    <tr>\n",
       "      <th>1</th>\n",
       "      <td>1</td>\n",
       "      <td>Hyundai Creta 1.6 CRDi SX Option</td>\n",
       "      <td>Pune</td>\n",
       "      <td>2015</td>\n",
       "      <td>41000</td>\n",
       "      <td>Diesel</td>\n",
       "      <td>Manual</td>\n",
       "      <td>First</td>\n",
       "      <td>19.67 kmpl</td>\n",
       "      <td>1582 CC</td>\n",
       "      <td>126.2 bhp</td>\n",
       "      <td>5.0</td>\n",
       "      <td>NaN</td>\n",
       "      <td>12.50</td>\n",
       "    </tr>\n",
       "    <tr>\n",
       "      <th>2</th>\n",
       "      <td>2</td>\n",
       "      <td>Honda Jazz V</td>\n",
       "      <td>Chennai</td>\n",
       "      <td>2011</td>\n",
       "      <td>46000</td>\n",
       "      <td>Petrol</td>\n",
       "      <td>Manual</td>\n",
       "      <td>First</td>\n",
       "      <td>18.2 kmpl</td>\n",
       "      <td>1199 CC</td>\n",
       "      <td>88.7 bhp</td>\n",
       "      <td>5.0</td>\n",
       "      <td>8.61 Lakh</td>\n",
       "      <td>4.50</td>\n",
       "    </tr>\n",
       "    <tr>\n",
       "      <th>3</th>\n",
       "      <td>3</td>\n",
       "      <td>Maruti Ertiga VDI</td>\n",
       "      <td>Chennai</td>\n",
       "      <td>2012</td>\n",
       "      <td>87000</td>\n",
       "      <td>Diesel</td>\n",
       "      <td>Manual</td>\n",
       "      <td>First</td>\n",
       "      <td>20.77 kmpl</td>\n",
       "      <td>1248 CC</td>\n",
       "      <td>88.76 bhp</td>\n",
       "      <td>7.0</td>\n",
       "      <td>NaN</td>\n",
       "      <td>6.00</td>\n",
       "    </tr>\n",
       "    <tr>\n",
       "      <th>4</th>\n",
       "      <td>4</td>\n",
       "      <td>Audi A4 New 2.0 TDI Multitronic</td>\n",
       "      <td>Coimbatore</td>\n",
       "      <td>2013</td>\n",
       "      <td>40670</td>\n",
       "      <td>Diesel</td>\n",
       "      <td>Automatic</td>\n",
       "      <td>Second</td>\n",
       "      <td>15.2 kmpl</td>\n",
       "      <td>1968 CC</td>\n",
       "      <td>140.8 bhp</td>\n",
       "      <td>5.0</td>\n",
       "      <td>NaN</td>\n",
       "      <td>17.74</td>\n",
       "    </tr>\n",
       "  </tbody>\n",
       "</table>\n",
       "</div>"
      ],
      "text/plain": [
       "   Unnamed: 0                              Name    Location  Year  \\\n",
       "0           0            Maruti Wagon R LXI CNG      Mumbai  2010   \n",
       "1           1  Hyundai Creta 1.6 CRDi SX Option        Pune  2015   \n",
       "2           2                      Honda Jazz V     Chennai  2011   \n",
       "3           3                 Maruti Ertiga VDI     Chennai  2012   \n",
       "4           4   Audi A4 New 2.0 TDI Multitronic  Coimbatore  2013   \n",
       "\n",
       "   Kilometers_Driven Fuel_Type Transmission Owner_Type     Mileage   Engine  \\\n",
       "0              72000       CNG       Manual      First  26.6 km/kg   998 CC   \n",
       "1              41000    Diesel       Manual      First  19.67 kmpl  1582 CC   \n",
       "2              46000    Petrol       Manual      First   18.2 kmpl  1199 CC   \n",
       "3              87000    Diesel       Manual      First  20.77 kmpl  1248 CC   \n",
       "4              40670    Diesel    Automatic     Second   15.2 kmpl  1968 CC   \n",
       "\n",
       "       Power  Seats  New_Price  Price  \n",
       "0  58.16 bhp    5.0        NaN   1.75  \n",
       "1  126.2 bhp    5.0        NaN  12.50  \n",
       "2   88.7 bhp    5.0  8.61 Lakh   4.50  \n",
       "3  88.76 bhp    7.0        NaN   6.00  \n",
       "4  140.8 bhp    5.0        NaN  17.74  "
      ]
     },
     "execution_count": 459,
     "metadata": {},
     "output_type": "execute_result"
    }
   ],
   "source": [
    "data=pd.read_csv('dataset.csv')\n",
    "data.head(5)"
   ]
  },
  {
   "cell_type": "code",
   "execution_count": 460,
   "metadata": {},
   "outputs": [
    {
     "name": "stdout",
     "output_type": "stream",
     "text": [
      "<class 'pandas.core.frame.DataFrame'>\n",
      "RangeIndex: 6019 entries, 0 to 6018\n",
      "Data columns (total 14 columns):\n",
      " #   Column             Non-Null Count  Dtype  \n",
      "---  ------             --------------  -----  \n",
      " 0   Unnamed: 0         6019 non-null   int64  \n",
      " 1   Name               6019 non-null   object \n",
      " 2   Location           6019 non-null   object \n",
      " 3   Year               6019 non-null   int64  \n",
      " 4   Kilometers_Driven  6019 non-null   int64  \n",
      " 5   Fuel_Type          6019 non-null   object \n",
      " 6   Transmission       6019 non-null   object \n",
      " 7   Owner_Type         6019 non-null   object \n",
      " 8   Mileage            6017 non-null   object \n",
      " 9   Engine             5983 non-null   object \n",
      " 10  Power              5983 non-null   object \n",
      " 11  Seats              5977 non-null   float64\n",
      " 12  New_Price          824 non-null    object \n",
      " 13  Price              6019 non-null   float64\n",
      "dtypes: float64(2), int64(3), object(9)\n",
      "memory usage: 658.5+ KB\n"
     ]
    }
   ],
   "source": [
    "data.info()"
   ]
  },
  {
   "cell_type": "markdown",
   "metadata": {},
   "source": [
    "# Splitting dataset into train and test set"
   ]
  },
  {
   "cell_type": "code",
   "execution_count": 461,
   "metadata": {},
   "outputs": [],
   "source": [
    "x=data.iloc[: , :-1]\n",
    "y=data.iloc[: , -1]"
   ]
  },
  {
   "cell_type": "code",
   "execution_count": 462,
   "metadata": {},
   "outputs": [],
   "source": [
    "x_train,x_test,y_train,y_test=train_test_split(x,y,test_size=0.25,random_state=42)"
   ]
  },
  {
   "cell_type": "code",
   "execution_count": 463,
   "metadata": {},
   "outputs": [
    {
     "name": "stdout",
     "output_type": "stream",
     "text": [
      "<class 'pandas.core.frame.DataFrame'>\n",
      "Int64Index: 4514 entries, 2484 to 860\n",
      "Data columns (total 13 columns):\n",
      " #   Column             Non-Null Count  Dtype  \n",
      "---  ------             --------------  -----  \n",
      " 0   Unnamed: 0         4514 non-null   int64  \n",
      " 1   Name               4514 non-null   object \n",
      " 2   Location           4514 non-null   object \n",
      " 3   Year               4514 non-null   int64  \n",
      " 4   Kilometers_Driven  4514 non-null   int64  \n",
      " 5   Fuel_Type          4514 non-null   object \n",
      " 6   Transmission       4514 non-null   object \n",
      " 7   Owner_Type         4514 non-null   object \n",
      " 8   Mileage            4513 non-null   object \n",
      " 9   Engine             4488 non-null   object \n",
      " 10  Power              4488 non-null   object \n",
      " 11  Seats              4484 non-null   float64\n",
      " 12  New_Price          619 non-null    object \n",
      "dtypes: float64(1), int64(3), object(9)\n",
      "memory usage: 493.7+ KB\n"
     ]
    }
   ],
   "source": [
    "x_train.info()"
   ]
  },
  {
   "cell_type": "markdown",
   "metadata": {},
   "source": [
    "# Data Analysis"
   ]
  },
  {
   "cell_type": "markdown",
   "metadata": {},
   "source": [
    "As the first column is index, we are removing that index column and considering rest of the columns"
   ]
  },
  {
   "cell_type": "code",
   "execution_count": 464,
   "metadata": {},
   "outputs": [],
   "source": [
    "x_train=x_train.iloc[:, 1:]\n",
    "x_test=x_test.iloc[:, 1:]"
   ]
  },
  {
   "cell_type": "markdown",
   "metadata": {},
   "source": [
    "# Name"
   ]
  },
  {
   "cell_type": "markdown",
   "metadata": {},
   "source": [
    "Let's see the various cars in dataset"
   ]
  },
  {
   "cell_type": "code",
   "execution_count": 465,
   "metadata": {},
   "outputs": [
    {
     "data": {
      "text/plain": [
       "Mahindra XUV500 W8 2WD          39\n",
       "Maruti Swift VDI                33\n",
       "Hyundai i10 Sportz              26\n",
       "Maruti Ritz VDi                 26\n",
       "Maruti Swift Dzire VDI          26\n",
       "                                ..\n",
       "BMW X3 xDrive 20d Expedition     1\n",
       "Ford Fiesta 1.6 ZXi Leather      1\n",
       "BMW 6 Series 640d Gran Coupe     1\n",
       "Maruti Ertiga Paseo VDI          1\n",
       "Hyundai Verna 1.4 CRDi GL        1\n",
       "Name: Name, Length: 1641, dtype: int64"
      ]
     },
     "execution_count": 465,
     "metadata": {},
     "output_type": "execute_result"
    }
   ],
   "source": [
    "x_train['Name'].value_counts()"
   ]
  },
  {
   "cell_type": "markdown",
   "metadata": {},
   "source": [
    "Let's consider only the manufacturer name and ignore rest of the details"
   ]
  },
  {
   "cell_type": "code",
   "execution_count": 466,
   "metadata": {},
   "outputs": [],
   "source": [
    "name_train= x_train[\"Name\"].str.split(\" \",expand=True)\n",
    "name_test= x_test[\"Name\"].str.split(\" \",expand=True)"
   ]
  },
  {
   "cell_type": "code",
   "execution_count": 467,
   "metadata": {},
   "outputs": [],
   "source": [
    "x_train['Manufacturer']=name_train[0]\n",
    "x_test['Manufacturer']=name_test[0]"
   ]
  },
  {
   "cell_type": "markdown",
   "metadata": {},
   "source": [
    "Let's see the graph for the no of cars"
   ]
  },
  {
   "cell_type": "code",
   "execution_count": 468,
   "metadata": {},
   "outputs": [
    {
     "data": {
      "text/plain": [
       "Text(0, 0.5, 'No of cars')"
      ]
     },
     "execution_count": 468,
     "metadata": {},
     "output_type": "execute_result"
    },
    {
     "data": {
      "image/png": "[encoded data removed]",
      "text/plain": [
       "<Figure size 864x576 with 1 Axes>"
      ]
     },
     "metadata": {
      "needs_background": "light"
     },
     "output_type": "display_data"
    }
   ],
   "source": [
    "plt.figure(figsize=(12,8))\n",
    "plot=sns.countplot(x='Manufacturer',data=x_train)\n",
    "plt.xticks(rotation=90)\n",
    "for p in plot.patches:\n",
    "    plot.annotate(p.get_height(),\n",
    "                 (p.get_x()+p.get_width()/2.0,\n",
    "                  p.get_height()),\n",
    "                  ha='center',\n",
    "                  va='center',\n",
    "                  xytext=(0,5),\n",
    "                  textcoords='offset points')\n",
    "plt.title('Number of cars based on manufacturers')\n",
    "plt.xlabel('Manufacturers')\n",
    "plt.ylabel('No of cars')"
   ]
  },
  {
   "cell_type": "markdown",
   "metadata": {},
   "source": [
    "As there are no null values and maximum no of cars by Maruti Manufacturer so we will drop the name column"
   ]
  },
  {
   "cell_type": "code",
   "execution_count": 469,
   "metadata": {},
   "outputs": [],
   "source": [
    "x_train.drop('Name',axis=1,inplace=True)\n",
    "x_test.drop('Name',axis=1,inplace=True)"
   ]
  },
  {
   "cell_type": "code",
   "execution_count": 470,
   "metadata": {},
   "outputs": [
    {
     "name": "stdout",
     "output_type": "stream",
     "text": [
      "<class 'pandas.core.frame.DataFrame'>\n",
      "Int64Index: 4514 entries, 2484 to 860\n",
      "Data columns (total 12 columns):\n",
      " #   Column             Non-Null Count  Dtype  \n",
      "---  ------             --------------  -----  \n",
      " 0   Location           4514 non-null   object \n",
      " 1   Year               4514 non-null   int64  \n",
      " 2   Kilometers_Driven  4514 non-null   int64  \n",
      " 3   Fuel_Type          4514 non-null   object \n",
      " 4   Transmission       4514 non-null   object \n",
      " 5   Owner_Type         4514 non-null   object \n",
      " 6   Mileage            4513 non-null   object \n",
      " 7   Engine             4488 non-null   object \n",
      " 8   Power              4488 non-null   object \n",
      " 9   Seats              4484 non-null   float64\n",
      " 10  New_Price          619 non-null    object \n",
      " 11  Manufacturer       4514 non-null   object \n",
      "dtypes: float64(1), int64(2), object(9)\n",
      "memory usage: 618.5+ KB\n"
     ]
    }
   ],
   "source": [
    "x_train.info()"
   ]
  },
  {
   "cell_type": "markdown",
   "metadata": {},
   "source": [
    "# Location"
   ]
  },
  {
   "cell_type": "markdown",
   "metadata": {},
   "source": [
    "Location is not useful and shouldn't matter in price prediction so we will drop location too"
   ]
  },
  {
   "cell_type": "code",
   "execution_count": 471,
   "metadata": {},
   "outputs": [],
   "source": [
    "x_train.drop('Location',axis=1,inplace=True)\n",
    "x_test.drop('Location',axis=1,inplace=True)"
   ]
  },
  {
   "cell_type": "code",
   "execution_count": 472,
   "metadata": {},
   "outputs": [
    {
     "name": "stdout",
     "output_type": "stream",
     "text": [
      "<class 'pandas.core.frame.DataFrame'>\n",
      "Int64Index: 4514 entries, 2484 to 860\n",
      "Data columns (total 11 columns):\n",
      " #   Column             Non-Null Count  Dtype  \n",
      "---  ------             --------------  -----  \n",
      " 0   Year               4514 non-null   int64  \n",
      " 1   Kilometers_Driven  4514 non-null   int64  \n",
      " 2   Fuel_Type          4514 non-null   object \n",
      " 3   Transmission       4514 non-null   object \n",
      " 4   Owner_Type         4514 non-null   object \n",
      " 5   Mileage            4513 non-null   object \n",
      " 6   Engine             4488 non-null   object \n",
      " 7   Power              4488 non-null   object \n",
      " 8   Seats              4484 non-null   float64\n",
      " 9   New_Price          619 non-null    object \n",
      " 10  Manufacturer       4514 non-null   object \n",
      "dtypes: float64(1), int64(2), object(8)\n",
      "memory usage: 583.2+ KB\n"
     ]
    }
   ],
   "source": [
    "x_train.info()"
   ]
  },
  {
   "cell_type": "markdown",
   "metadata": {},
   "source": [
    "# Year"
   ]
  },
  {
   "cell_type": "markdown",
   "metadata": {},
   "source": [
    "We will try to extract how old the car is so that we can predict the price."
   ]
  },
  {
   "cell_type": "code",
   "execution_count": 473,
   "metadata": {},
   "outputs": [],
   "source": [
    "curr_time=datetime.datetime.now()\n",
    "x_train[\"Year\"]=x_train[\"Year\"].apply(lambda x: curr_time.year - x)\n",
    "x_test[\"Year\"]=x_test[\"Year\"].apply(lambda x: curr_time.year - x)"
   ]
  },
  {
   "cell_type": "markdown",
   "metadata": {},
   "source": [
    "# Kilometers driven"
   ]
  },
  {
   "cell_type": "markdown",
   "metadata": {},
   "source": [
    "The no of kilometers driven is also important aspect in predicting the price.As it is a just a integer, we will directly add it to the train set."
   ]
  },
  {
   "cell_type": "code",
   "execution_count": 476,
   "metadata": {},
   "outputs": [
    {
     "data": {
      "text/plain": [
       "2484     11000\n",
       "2024     44555\n",
       "1436     90000\n",
       "5443     75378\n",
       "1222     62729\n",
       "         ...  \n",
       "3772     27000\n",
       "5191      9000\n",
       "5226    140000\n",
       "5390     76414\n",
       "860      98000\n",
       "Name: Kilometers_Driven, Length: 4514, dtype: int64"
      ]
     },
     "execution_count": 476,
     "metadata": {},
     "output_type": "execute_result"
    }
   ],
   "source": [
    "x_train[\"Kilometers_Driven\"]"
   ]
  },
  {
   "cell_type": "markdown",
   "metadata": {},
   "source": [
    "# Fuel type ,Transimission and Owner type"
   ]
  },
  {
   "cell_type": "markdown",
   "metadata": {},
   "source": [
    "As these are categorical columns,we will get dummies of these columns in preprocessing phase before using those."
   ]
  },
  {
   "cell_type": "markdown",
   "metadata": {},
   "source": [
    "# Mileage"
   ]
  },
  {
   "cell_type": "code",
   "execution_count": 477,
   "metadata": {},
   "outputs": [],
   "source": [
    "mileage_train=x_train['Mileage'].str.split(\" \",expand=True)\n",
    "mileage_test=x_test['Mileage'].str.split(\" \",expand=True)\n",
    "\n",
    "x_train[\"Mileage\"]=pd.to_numeric(mileage_train[0], errors= 'coerce')\n",
    "x_test[\"Mileage\"]=pd.to_numeric(mileage_test[0], errors= 'coerce')"
   ]
  },
  {
   "cell_type": "code",
   "execution_count": 478,
   "metadata": {},
   "outputs": [
    {
     "name": "stdout",
     "output_type": "stream",
     "text": [
      "2484    17.11\n",
      "2024    15.20\n",
      "1436    20.00\n",
      "5443    18.70\n",
      "1222    12.05\n",
      "        ...  \n",
      "3772    17.97\n",
      "5191    12.62\n",
      "5226    15.10\n",
      "5390    25.80\n",
      "860     12.80\n",
      "Name: Mileage, Length: 4514, dtype: float64\n"
     ]
    }
   ],
   "source": [
    "print(x_train['Mileage'])"
   ]
  },
  {
   "cell_type": "markdown",
   "metadata": {},
   "source": [
    "Let's check for missing values if any"
   ]
  },
  {
   "cell_type": "code",
   "execution_count": 479,
   "metadata": {},
   "outputs": [
    {
     "name": "stdout",
     "output_type": "stream",
     "text": [
      "1\n",
      "1\n"
     ]
    }
   ],
   "source": [
    "print(sum(x_train['Mileage'].isnull()))\n",
    "print(sum(x_test['Mileage'].isnull()))"
   ]
  },
  {
   "cell_type": "markdown",
   "metadata": {},
   "source": [
    "There is only one missing value in each so we will replace it with mean value of those columns."
   ]
  },
  {
   "cell_type": "code",
   "execution_count": 480,
   "metadata": {},
   "outputs": [],
   "source": [
    "x_train['Mileage'].fillna(x_train['Mileage'].astype('float64').mean(),inplace=True)\n",
    "x_test['Mileage'].fillna(x_test['Mileage'].astype('float64').mean(),inplace=True)"
   ]
  },
  {
   "cell_type": "markdown",
   "metadata": {},
   "source": [
    "Let's check"
   ]
  },
  {
   "cell_type": "code",
   "execution_count": 481,
   "metadata": {},
   "outputs": [
    {
     "name": "stdout",
     "output_type": "stream",
     "text": [
      "0\n",
      "0\n"
     ]
    }
   ],
   "source": [
    "print(sum(x_train['Mileage'].isnull()))\n",
    "print(sum(x_test['Mileage'].isnull()))"
   ]
  },
  {
   "cell_type": "markdown",
   "metadata": {},
   "source": [
    "Yep, Mileage is done"
   ]
  },
  {
   "cell_type": "markdown",
   "metadata": {},
   "source": [
    "#  Engine and Power"
   ]
  },
  {
   "cell_type": "markdown",
   "metadata": {},
   "source": [
    "We have to ignore the strings in engine and power columns and convert to integers."
   ]
  },
  {
   "cell_type": "code",
   "execution_count": 482,
   "metadata": {},
   "outputs": [],
   "source": [
    "engine_train=x_train['Engine'].str.split(' ',expand=True)\n",
    "engine_test=x_test['Engine'].str.split(' ',expand=True)\n",
    "power_train=x_train['Power'].str.split(' ',expand=True)\n",
    "power_test=x_test['Power'].str.split(' ',expand=True)\n",
    "\n",
    "x_train['Engine']=pd.to_numeric(engine_train[0],errors='coerce')\n",
    "x_test['Engine']=pd.to_numeric(engine_test[0],errors='coerce')\n",
    "\n",
    "x_train['Power']=pd.to_numeric(power_train[0],errors='coerce')\n",
    "x_test['Power']=pd.to_numeric(power_test[0],errors='coerce')"
   ]
  },
  {
   "cell_type": "code",
   "execution_count": 483,
   "metadata": {},
   "outputs": [
    {
     "name": "stdout",
     "output_type": "stream",
     "text": [
      "2484    1968.0\n",
      "2024    1968.0\n",
      "1436    1399.0\n",
      "5443    1896.0\n",
      "1222    2179.0\n",
      "         ...  \n",
      "3772    1498.0\n",
      "5191    2198.0\n",
      "5226    2179.0\n",
      "5390    1498.0\n",
      "860     2494.0\n",
      "Name: Engine, Length: 4514, dtype: float64\n"
     ]
    }
   ],
   "source": [
    "print(x_train['Engine'])"
   ]
  },
  {
   "cell_type": "code",
   "execution_count": 484,
   "metadata": {},
   "outputs": [
    {
     "name": "stdout",
     "output_type": "stream",
     "text": [
      "2484    174.33\n",
      "2024    140.80\n",
      "1436     68.00\n",
      "5443     66.00\n",
      "1222    120.00\n",
      "         ...  \n",
      "3772     99.60\n",
      "5191    158.00\n",
      "5226    140.00\n",
      "5390     98.60\n",
      "860     102.00\n",
      "Name: Power, Length: 4514, dtype: float64\n"
     ]
    }
   ],
   "source": [
    "print(x_train['Power'])"
   ]
  },
  {
   "cell_type": "code",
   "execution_count": 485,
   "metadata": {},
   "outputs": [
    {
     "name": "stdout",
     "output_type": "stream",
     "text": [
      "26\n",
      "10\n",
      "100\n",
      "43\n"
     ]
    }
   ],
   "source": [
    "print(sum(x_train['Engine'].isnull()))\n",
    "print(sum(x_test['Engine'].isnull()))\n",
    "\n",
    "print(sum(x_train['Power'].isnull()))\n",
    "print(sum(x_test['Power'].isnull()))"
   ]
  },
  {
   "cell_type": "markdown",
   "metadata": {},
   "source": [
    "Ohhh!!!!, we have many missing values but no need to worry we have to replace all those missing values with mean."
   ]
  },
  {
   "cell_type": "code",
   "execution_count": 486,
   "metadata": {},
   "outputs": [],
   "source": [
    "x_train['Engine'].fillna(x_train['Engine'].astype('float64').mean(),inplace=True)\n",
    "x_test['Engine'].fillna(x_test['Engine'].astype('float64').mean(),inplace=True)\n",
    "\n",
    "x_train['Power'].fillna(x_train['Power'].astype('float64').mean(),inplace=True)\n",
    "x_test['Power'].fillna(x_test['Power'].astype('float64').mean(),inplace=True)"
   ]
  },
  {
   "cell_type": "markdown",
   "metadata": {},
   "source": [
    "Yes, we have replaced the missing values with means"
   ]
  },
  {
   "cell_type": "code",
   "execution_count": 487,
   "metadata": {},
   "outputs": [
    {
     "name": "stdout",
     "output_type": "stream",
     "text": [
      "0\n",
      "0\n",
      "0\n",
      "0\n"
     ]
    }
   ],
   "source": [
    "print(sum(x_train['Engine'].isnull()))\n",
    "print(sum(x_test['Engine'].isnull()))\n",
    "\n",
    "print(sum(x_train['Power'].isnull()))\n",
    "print(sum(x_test['Power'].isnull()))"
   ]
  },
  {
   "cell_type": "markdown",
   "metadata": {},
   "source": [
    "Yep, There are no missing values at all."
   ]
  },
  {
   "cell_type": "markdown",
   "metadata": {},
   "source": [
    "# Seats"
   ]
  },
  {
   "cell_type": "markdown",
   "metadata": {},
   "source": [
    "Seats are already in float values.We will replace the missing values with mean."
   ]
  },
  {
   "cell_type": "code",
   "execution_count": 488,
   "metadata": {},
   "outputs": [],
   "source": [
    "x_train['Seats'].fillna(x_train['Seats'].astype('float64').mean(),inplace=True)\n",
    "x_test['Seats'].fillna(x_test['Seats'].astype('float64').mean(),inplace=True)"
   ]
  },
  {
   "cell_type": "code",
   "execution_count": 489,
   "metadata": {},
   "outputs": [
    {
     "name": "stdout",
     "output_type": "stream",
     "text": [
      "0\n",
      "0\n"
     ]
    }
   ],
   "source": [
    "print(sum(x_train['Seats'].isnull()))\n",
    "print(sum(x_test['Seats'].isnull()))"
   ]
  },
  {
   "cell_type": "markdown",
   "metadata": {},
   "source": [
    "# New Price"
   ]
  },
  {
   "cell_type": "markdown",
   "metadata": {},
   "source": [
    "As most of the values are missing in it so we will drop the column."
   ]
  },
  {
   "cell_type": "code",
   "execution_count": 490,
   "metadata": {},
   "outputs": [],
   "source": [
    "x_train.drop('New_Price',axis=1,inplace=True)\n",
    "x_test.drop('New_Price',axis=1,inplace=True)"
   ]
  },
  {
   "cell_type": "markdown",
   "metadata": {},
   "source": [
    "# Data Processing"
   ]
  },
  {
   "cell_type": "markdown",
   "metadata": {},
   "source": [
    "Now it's time for preprocessing by creating dummy columns for categorical columns."
   ]
  },
  {
   "cell_type": "code",
   "execution_count": 491,
   "metadata": {},
   "outputs": [],
   "source": [
    "x_train=pd.get_dummies(x_train,\n",
    "                       columns=[\"Manufacturer\", \"Fuel_Type\", \"Transmission\",\"Owner_Type\"],\n",
    "                       drop_first = True)\n",
    "x_test=pd.get_dummies(x_test,\n",
    "                      columns=[\"Manufacturer\", \"Fuel_Type\" , \"Transmission\" , \"Owner_Type\"],\n",
    "                      drop_first = True)"
   ]
  },
  {
   "cell_type": "markdown",
   "metadata": {},
   "source": [
    "It might be different in creating dummies for train and test set.So if there any missing values, we will fill those."
   ]
  },
  {
   "cell_type": "code",
   "execution_count": 492,
   "metadata": {},
   "outputs": [],
   "source": [
    "missing_columns=set(x_train.columns) - set(x_test.columns)\n",
    "for i in missing_columns:\n",
    "    x_test[i]=0\n",
    "x_test = x_test[x_train.columns]"
   ]
  },
  {
   "cell_type": "markdown",
   "metadata": {},
   "source": [
    "The final step is scaling"
   ]
  },
  {
   "cell_type": "code",
   "execution_count": 493,
   "metadata": {},
   "outputs": [],
   "source": [
    "standardScaler=StandardScaler()\n",
    "standardScaler.fit(x_train)\n",
    "x_train=standardScaler.transform(x_train)\n",
    "x_test=standardScaler.transform(x_test)"
   ]
  },
  {
   "cell_type": "markdown",
   "metadata": {},
   "source": [
    "# Training and predicting the price"
   ]
  },
  {
   "cell_type": "markdown",
   "metadata": {},
   "source": [
    "Let's train the model using Random Forest Regression and predict "
   ]
  },
  {
   "cell_type": "code",
   "execution_count": 495,
   "metadata": {},
   "outputs": [
    {
     "data": {
      "text/plain": [
       "0.8893117111464566"
      ]
     },
     "execution_count": 495,
     "metadata": {},
     "output_type": "execute_result"
    }
   ],
   "source": [
    "randomReg=RandomForestRegressor(n_estimators=1000,random_state=100)\n",
    "randomReg.fit(x_train,y_train)\n",
    "y_pred=randomReg.predict(x_test)\n",
    "r2_score(y_test,y_pred)"
   ]
  },
  {
   "cell_type": "markdown",
   "metadata": {},
   "source": [
    "# Hurray! We have got r2_score as 0"
   ]
  }
 ],
 "metadata": {
  "kernelspec": {
   "display_name": "Python 3",
   "language": "python",
   "name": "python3"
  },
  "language_info": {
   "codemirror_mode": {
    "name": "ipython",
    "version": 3
   },
   "file_extension": ".py",
   "mimetype": "text/x-python",
   "name": "python",
   "nbconvert_exporter": "python",
   "pygments_lexer": "ipython3",
   "version": "3.7.6"
  }
 },
 "nbformat": 4,
 "nbformat_minor": 4
}
